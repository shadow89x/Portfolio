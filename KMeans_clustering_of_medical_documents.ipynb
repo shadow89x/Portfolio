{
 "cells": [
  {
   "attachments": {},
   "cell_type": "markdown",
   "metadata": {},
   "source": [
    "# Package import"
   ]
  },
  {
   "cell_type": "code",
   "execution_count": 1,
   "metadata": {},
   "outputs": [],
   "source": [
    "import pandas as pd\n",
    "import os \n",
    "import json\n",
    "import re\n",
    "import os\n",
    "import fitz\n",
    "import math\n",
    "from sklearn.feature_extraction.text import TfidfVectorizer\n",
    "from sklearn.cluster import KMeans\n",
    "from collections import defaultdict\n",
    "from sklearn.decomposition import PCA\n",
    "import PyPDF2\n",
    "from sklearn.metrics import silhouette_score\n",
    "import cv2\n",
    "import numpy as np\n",
    "import multiprocessing\n",
    "from skimage.transform import rotate\n",
    "from skimage.feature import canny\n",
    "from skimage.transform import hough_line, hough_line_peaks\n",
    "import matplotlib.pyplot as plt\n",
    "import pytesseract\n",
    "\n",
    "# If you don't have tesseract executable in your PATH, include the following:\n",
    "pytesseract.pytesseract.tesseract_cmd = r'$<Path>$\\Tesseract-OCR\\tesseract.exe'\n"
   ]
  },
  {
   "attachments": {},
   "cell_type": "markdown",
   "metadata": {},
   "source": [
    "# Create List"
   ]
  },
  {
   "cell_type": "code",
   "execution_count": 2,
   "metadata": {},
   "outputs": [],
   "source": [
    "pdf_path = []\n",
    "pdf_name = []\n",
    "\n",
    "def list_files(path):\n",
    "    for filename in os.listdir(path):\n",
    "        file_path = os.path.join(path, filename)\n",
    "        if os.path.isfile(file_path):\n",
    "            pdf_path.append(file_path)\n",
    "            pdf_name.append(filename)\n",
    "\n",
    "list_files(r\"$<Path>$\\Healthcare_Documents_Clustering_With_OCR\\dummy_doc\")\n",
    "pdf_dict = dict(zip(pdf_name, pdf_path))"
   ]
  },
  {
   "attachments": {},
   "cell_type": "markdown",
   "metadata": {},
   "source": [
    "# Transform PDF to PNG"
   ]
  },
  {
   "cell_type": "code",
   "execution_count": 3,
   "metadata": {},
   "outputs": [],
   "source": [
    "pdf_dir = '$<Path>$\\Healthcare_Documents_Clustering_With_OCR\\dummy_doc'\n",
    "output_dir = '$<Path>$\\Healthcare_Documents_Clustering_With_OCR\\dummy_doc_png'\n",
    "dpi = 400 # set the DPI value here\n",
    "\n",
    "for filename in os.listdir(pdf_dir):\n",
    "    if filename.endswith('.pdf'):\n",
    "        pdf_path = os.path.join(pdf_dir, filename)\n",
    "        doc = fitz.open(pdf_path)\n",
    "        for page_num, page in enumerate(doc):\n",
    "            name= filename.split('.')[0]\n",
    "            output_path = os.path.join(output_dir, f'{name}_{page_num}.png')\n",
    "            pix = page.get_pixmap(matrix=fitz.Matrix(dpi/72, dpi/72)) # set the DPI value here\n",
    "            pix.save(output_path)\n",
    "        doc.close()"
   ]
  },
  {
   "cell_type": "code",
   "execution_count": 4,
   "metadata": {},
   "outputs": [
    {
     "name": "stdout",
     "output_type": "stream",
     "text": [
      "[]\n"
     ]
    }
   ],
   "source": [
    "# code to get index where code being stopped and need to resume from the point\n",
    "pdf_name='.pdf'\n",
    "index = [i for i, path in enumerate(pdf_path) if pdf_name in path]\n",
    "print(index)"
   ]
  },
  {
   "attachments": {},
   "cell_type": "markdown",
   "metadata": {},
   "source": [
    "# list png"
   ]
  },
  {
   "cell_type": "code",
   "execution_count": 5,
   "metadata": {},
   "outputs": [],
   "source": [
    "png_path = []\n",
    "png_name = []\n",
    "\n",
    "def list_files(path):\n",
    "    for filename in os.listdir(path):\n",
    "        file_path = os.path.join(path, filename)\n",
    "        if os.path.isfile(file_path):\n",
    "            png_path.append(file_path)\n",
    "            png_name.append(filename)\n",
    "\n",
    "list_files(r\"$<Path>$\\Healthcare_Documents_Clustering_With_OCR\\dummy_doc_png\")\n",
    "png_dict = dict(zip(png_name, png_path))"
   ]
  },
  {
   "attachments": {},
   "cell_type": "markdown",
   "metadata": {},
   "source": [
    "# Image Preprocessing"
   ]
  },
  {
   "cell_type": "code",
   "execution_count": 6,
   "metadata": {},
   "outputs": [],
   "source": [
    "def image_preprocessing(png, destination):\n",
    "\n",
    "\n",
    "    # Read the image file\n",
    "    image = cv2.imread(png)\n",
    "\n",
    "    # Convert the image to grayscale\n",
    "    # Convert the image to HSV color space\n",
    "    hsv_image = cv2.cvtColor(image, cv2.COLOR_BGR2HSV)\n",
    "\n",
    "    # Extract the value channel\n",
    "    v_channel = hsv_image[:,:,2]\n",
    "\n",
    "    # Apply histogram equalization to improve contrast\n",
    "    # equalized_v_channel = cv2.equalizeHist(v_channel)\n",
    "\n",
    "    # # Apply thresholding to remove distortion\n",
    "    # thresholded_image = cv2.adaptiveThreshold(\n",
    "    #     equalized_v_channel, 255, cv2.ADAPTIVE_THRESH_GAUSSIAN_C, cv2.THRESH_BINARY, 3, 1)\n",
    "\n",
    "    # Apply Gaussian blur to remove noise\n",
    "    blurred_image = cv2.GaussianBlur(v_channel, (3, 3), 0)\n",
    "\n",
    "    file_name = destination + \"\\\\\" +os.path.basename(png).split(\"\\\\\")[-1]\n",
    "    # Save the pre-processed image\n",
    "    cv2.imwrite(file_name, blurred_image)"
   ]
  },
  {
   "cell_type": "code",
   "execution_count": 7,
   "metadata": {},
   "outputs": [],
   "source": [
    "destination = r'$<Path>$\\Healthcare_Documents_Clustering_With_OCR\\dummy_doc_png_processed'\n",
    "for png in png_path:\n",
    "    image_preprocessing(png,destination)"
   ]
  },
  {
   "attachments": {},
   "cell_type": "markdown",
   "metadata": {},
   "source": [
    "# Rotate image "
   ]
  },
  {
   "cell_type": "code",
   "execution_count": 8,
   "metadata": {},
   "outputs": [],
   "source": [
    "def rotate_im(image, angle):\n",
    "    image_height = image.shape[0]\n",
    "    image_width = image.shape[1]\n",
    "    diagonal_square = (image_width*image_width) + (\n",
    "        image_height* image_height\n",
    "    )\n",
    "    #\n",
    "    diagonal = round(math.sqrt(diagonal_square))\n",
    "    padding_top = round((diagonal-image_height) / 2)\n",
    "    padding_bottom = round((diagonal-image_height) / 2)\n",
    "    padding_right = round((diagonal-image_width) / 2)\n",
    "    padding_left = round((diagonal-image_width) / 2)\n",
    "    padded_image = cv2.copyMakeBorder(image,\n",
    "                                      top=padding_top,\n",
    "                                      bottom=padding_bottom,\n",
    "                                      left=padding_left,\n",
    "                                      right=padding_right,\n",
    "                                      borderType=cv2.BORDER_CONSTANT,\n",
    "                                      value=0\n",
    "            )\n",
    "    padded_height = padded_image.shape[0]\n",
    "    padded_width = padded_image.shape[1]\n",
    "    transform_matrix = cv2.getRotationMatrix2D(\n",
    "                (padded_height/2,\n",
    "                 padded_width/2), # center\n",
    "                angle, # angle\n",
    "      1.0) # scale\n",
    "    rotated_image = cv2.warpAffine(padded_image,\n",
    "                                   transform_matrix,\n",
    "                                   (diagonal, diagonal),\n",
    "                                   flags=cv2.INTER_LANCZOS4)\n",
    "    return rotated_image"
   ]
  },
  {
   "cell_type": "code",
   "execution_count": 9,
   "metadata": {},
   "outputs": [],
   "source": [
    "def image_rotation(png, destination):\n",
    "     \n",
    "    # Read image from URL\n",
    "    # resp = urllib.request.urlopen(' ')\n",
    "\n",
    "    # Read image from local\n",
    "    try:\n",
    "        #get the image\n",
    "        image = cv2.imread(png)\n",
    "\n",
    "        #get the orientation of the image\n",
    "        rot_data = pytesseract.image_to_osd(image);\n",
    "\n",
    "        rot = re.search('(?<=Rotate: )\\d+', rot_data).group(0)\n",
    "        #get the angle\n",
    "        angle = float(rot)\n",
    "        if angle > 0:\n",
    "            angle = 360 - angle\n",
    "        #rotate the image\n",
    "        data=rotate_im(image,angle)\n",
    "        file_name = destination + \"\\\\\" +os.path.basename(png).split(\".\")[0] + \".png\"\n",
    "        # Save the pre-processed image\n",
    "        cv2.imwrite(file_name, data)\n",
    "    except: #in case of documents preprocessed in bad quality \n",
    "        print('not available to rotate png in processed')\n",
    "\n",
    "        name=png.split('\\\\')[-1]\n",
    "        base=r'G:\\VSCode\\Personal_work\\Clustering_pdf_sklearn\\dummy_doc_png/'\n",
    "        \n",
    "        png2=base+name\n",
    "        image = cv2.imread(png2)\n",
    "        try:\n",
    "            image = cv2.imread(png)\n",
    "            #get the orientation of the image\n",
    "            rot_data = pytesseract.image_to_osd(image);\n",
    "\n",
    "            rot = re.search('(?<=Rotate: )\\d+', rot_data).group(0)\n",
    "             #get the angle\n",
    "            angle = float(rot)\n",
    "            if angle > 0:\n",
    "                angle = 360 - angle\n",
    "            #rotate the image\n",
    "            data=rotate_im(image,angle)\n",
    "            file_name = destination + \"\\\\\" +os.path.basename(png).split(\".\")[0] + \".png\"\n",
    "            # Save the pre-processed image\n",
    "            cv2.imwrite(file_name, data)\n",
    "        except:\n",
    "            file_name = destination + \"\\\\\" +os.path.basename(png).split(\".\")[0] + \".png\"\n",
    "            cv2.imwrite(file_name, image)"
   ]
  },
  {
   "cell_type": "code",
   "execution_count": 10,
   "metadata": {},
   "outputs": [],
   "source": [
    "png_rotate_path = []\n",
    "png_rotate_name = []\n",
    "\n",
    "def list_files(path):\n",
    "    for filename in os.listdir(path):\n",
    "        file_path = os.path.join(path, filename)\n",
    "        if os.path.isfile(file_path):\n",
    "            png_rotate_path.append(file_path)\n",
    "            png_rotate_name.append(filename)\n",
    "\n",
    "list_files(r\"$<Path>$\\Healthcare_Documents_Clustering_With_OCR\\dummy_doc_png_processed\")\n",
    "png_rotate_dict = dict(zip(png_rotate_name, png_rotate_path))"
   ]
  },
  {
   "cell_type": "code",
   "execution_count": 11,
   "metadata": {},
   "outputs": [
    {
     "name": "stdout",
     "output_type": "stream",
     "text": [
      "not available to rotate png in processed\n",
      "not available to rotate png in processed\n",
      "not available to rotate png in processed\n"
     ]
    }
   ],
   "source": [
    "destination = r'$<Path>$\\Healthcare_Documents_Clustering_With_OCR\\dummy_doc_png_processed_rotated'\n",
    "for png in png_rotate_path:\n",
    "    image_rotation(png,destination)"
   ]
  },
  {
   "attachments": {},
   "cell_type": "markdown",
   "metadata": {},
   "source": [
    "# Text Extraction"
   ]
  },
  {
   "cell_type": "code",
   "execution_count": 12,
   "metadata": {},
   "outputs": [],
   "source": [
    "png_cleaned_path = []\n",
    "png_cleaned_name = []\n",
    "\n",
    "def list_files(path):\n",
    "    for filename in os.listdir(path):\n",
    "        file_path = os.path.join(path, filename)\n",
    "        if os.path.isfile(file_path):\n",
    "            png_cleaned_path.append(file_path)\n",
    "            png_cleaned_name.append(filename)\n",
    "list_files(r\"$<Path>$\\Healthcare_Documents_Clustering_With_OCR\\dummy_doc_png_processed_rotated\")\n",
    "png_cleaned_dict = dict(zip(png_cleaned_name, png_cleaned_path))"
   ]
  },
  {
   "cell_type": "code",
   "execution_count": 13,
   "metadata": {},
   "outputs": [],
   "source": [
    "from PIL import Image\n",
    "\n",
    "full_text = {}\n",
    "config = r'--oem 1 --psm 6 --user-words dictionary.txt'\n",
    "\n",
    "for i, pt in enumerate(png_cleaned_dict):\n",
    "    try:\n",
    "        image = Image.open(r\"$<Path>$\\Healthcare_Documents_Clustering_With_OCR\\dummy_doc_png_processed_rotated/\" + pt)\n",
    "\n",
    "        # Read the image file\n",
    "        text = pytesseract.image_to_string(image, lang='eng', config=config)\n",
    "\n",
    "        full_text[pt] = text\n",
    "    except:\n",
    "        pass"
   ]
  },
  {
   "cell_type": "code",
   "execution_count": 14,
   "metadata": {},
   "outputs": [],
   "source": [
    "# import json\n",
    "# with open('full_text.json','w') as f:\n",
    "#     json.dump(full_text,f, indent=4)"
   ]
  },
  {
   "attachments": {},
   "cell_type": "markdown",
   "metadata": {},
   "source": [
    "# Data cleaning and reprocessing null values"
   ]
  },
  {
   "cell_type": "code",
   "execution_count": 15,
   "metadata": {},
   "outputs": [],
   "source": [
    "df= pd.DataFrame.from_dict(png_cleaned_dict , orient='index')\n",
    "df=df.reset_index()\n",
    "df=df.rename(columns={df.columns[0]:'doc_name',df.columns[1]: 'png_path'})\n",
    "df['group'] = df['doc_name'].str.split('_').str[0]\n",
    "result = df.groupby('group').agg({'png_path': ' '.join})\n",
    "result= result.reset_index()\n",
    "result.columns = ['doc_name','png_path']\n",
    "result['doc_name'] = result['doc_name'].apply(lambda x: x + '.png' if not x.endswith('.png') else x)\n",
    "result.to_csv('full_text_all_train_path.csv')"
   ]
  },
  {
   "cell_type": "code",
   "execution_count": 16,
   "metadata": {},
   "outputs": [],
   "source": [
    "df2= pd.DataFrame.from_dict(full_text, orient='index')\n",
    "df2=df2.reset_index()\n",
    "df2=df2.rename(columns={df2.columns[0]:'doc_name',df2.columns[1]: 'full_text'})\n",
    "df2['group'] = df2['doc_name'].str.split('_').str[0]\n",
    "result2 = df2.groupby('group').agg({'full_text': ' '.join})\n",
    "result2= result2.reset_index()\n",
    "result2.columns = ['doc_name','full_text']\n",
    "result2['doc_name'] = result2['doc_name'].apply(lambda x: x + '.png' if not x.endswith('.png') else x)\n",
    "result2.to_csv('full_text_all_train.csv')"
   ]
  },
  {
   "cell_type": "code",
   "execution_count": 17,
   "metadata": {},
   "outputs": [
    {
     "data": {
      "text/html": [
       "<div>\n",
       "<style scoped>\n",
       "    .dataframe tbody tr th:only-of-type {\n",
       "        vertical-align: middle;\n",
       "    }\n",
       "\n",
       "    .dataframe tbody tr th {\n",
       "        vertical-align: top;\n",
       "    }\n",
       "\n",
       "    .dataframe thead th {\n",
       "        text-align: right;\n",
       "    }\n",
       "</style>\n",
       "<table border=\"1\" class=\"dataframe\">\n",
       "  <thead>\n",
       "    <tr style=\"text-align: right;\">\n",
       "      <th></th>\n",
       "      <th>doc_name</th>\n",
       "      <th>full_text</th>\n",
       "    </tr>\n",
       "  </thead>\n",
       "  <tbody>\n",
       "    <tr>\n",
       "      <th>0</th>\n",
       "      <td>dummy-type1-1.png</td>\n",
       "      <td>Referral\\n213123\\n123\\nDoctor’s name &amp; Address...</td>\n",
       "    </tr>\n",
       "    <tr>\n",
       "      <th>1</th>\n",
       "      <td>dummy-type1-2.png</td>\n",
       "      <td>Referral\\nDoctor’s name &amp; Address _Dr Some one...</td>\n",
       "    </tr>\n",
       "    <tr>\n",
       "      <th>2</th>\n",
       "      <td>dummy-type1-3.png</td>\n",
       "      <td>Referral\\n23123232\\nDoctor’s name &amp; Address _ ...</td>\n",
       "    </tr>\n",
       "    <tr>\n",
       "      <th>3</th>\n",
       "      <td>dummy-type10-1.png</td>\n",
       "      <td>A, ; Specialist Consultation Referral Form\\nto...</td>\n",
       "    </tr>\n",
       "    <tr>\n",
       "      <th>4</th>\n",
       "      <td>dummy-type2-1.png</td>\n",
       "      <td>advice\\nThe voice of independent advice\\nSampl...</td>\n",
       "    </tr>\n",
       "    <tr>\n",
       "      <th>5</th>\n",
       "      <td>dummy-type2-2.png</td>\n",
       "      <td>advice\\nThe voice of independent advice\\nSampl...</td>\n",
       "    </tr>\n",
       "    <tr>\n",
       "      <th>6</th>\n",
       "      <td>dummy-type2-3.png</td>\n",
       "      <td>advice ux\\nThe voice of independent advice\\nSa...</td>\n",
       "    </tr>\n",
       "    <tr>\n",
       "      <th>7</th>\n",
       "      <td>dummy-type3-1.png</td>\n",
       "      <td>Holland Bloorview Appointment Services: 150 Ki...</td>\n",
       "    </tr>\n",
       "    <tr>\n",
       "      <th>8</th>\n",
       "      <td>dummy-type4-1.png</td>\n",
       "      <td>TRIAGING ADMIN CODE (COMPLETED ON RECEIPT): En...</td>\n",
       "    </tr>\n",
       "    <tr>\n",
       "      <th>9</th>\n",
       "      <td>dummy-type4-2.png</td>\n",
       "      <td>TRIAGING ADMIN CODE (COMPLETED ON RECEIPT): En...</td>\n",
       "    </tr>\n",
       "    <tr>\n",
       "      <th>10</th>\n",
       "      <td>dummy-type5-1.png</td>\n",
       "      <td>(C THE OHIO STATE UNIVERSITY\\n=) WEXNER MEDICA...</td>\n",
       "    </tr>\n",
       "    <tr>\n",
       "      <th>11</th>\n",
       "      <td>dummy-type6-1.png</td>\n",
       "      <td>~. a\\n\\n° e\\n! -\\ See\\n\\nFaker Medical Center\\...</td>\n",
       "    </tr>\n",
       "    <tr>\n",
       "      <th>12</th>\n",
       "      <td>dummy-type6-2.png</td>\n",
       "      <td>~. a\\n\\n° e\\n! Ned 1\\n\\nSome Medical Center\\n\\...</td>\n",
       "    </tr>\n",
       "    <tr>\n",
       "      <th>13</th>\n",
       "      <td>dummy-type7-1.png</td>\n",
       "      <td>England\\nPAEDIATRIC DENTISTRY REFERRAL FORM (C...</td>\n",
       "    </tr>\n",
       "    <tr>\n",
       "      <th>14</th>\n",
       "      <td>dummy-type8-1.png</td>\n",
       "      <td>es .\\nae (NOVA MEDICAL\\nls GROUP\\nPatient Regi...</td>\n",
       "    </tr>\n",
       "    <tr>\n",
       "      <th>15</th>\n",
       "      <td>dummy-type8-2.png</td>\n",
       "      <td>al, wie rh ~\\nie INOVA MEDICAL\\nge GROUP\\nPati...</td>\n",
       "    </tr>\n",
       "    <tr>\n",
       "      <th>16</th>\n",
       "      <td>dummy-type9-1.png</td>\n",
       "      <td>ai\" MEMORIALCARE\\nMAF MEDICAL GROUP Patient Re...</td>\n",
       "    </tr>\n",
       "    <tr>\n",
       "      <th>17</th>\n",
       "      <td>dummy-type9-2.png</td>\n",
       "      <td>ai\" MEMORIALCARE\\nAa MEDICAL GROUP Patient Reg...</td>\n",
       "    </tr>\n",
       "  </tbody>\n",
       "</table>\n",
       "</div>"
      ],
      "text/plain": [
       "              doc_name                                          full_text\n",
       "0    dummy-type1-1.png  Referral\\n213123\\n123\\nDoctor’s name & Address...\n",
       "1    dummy-type1-2.png  Referral\\nDoctor’s name & Address _Dr Some one...\n",
       "2    dummy-type1-3.png  Referral\\n23123232\\nDoctor’s name & Address _ ...\n",
       "3   dummy-type10-1.png  A, ; Specialist Consultation Referral Form\\nto...\n",
       "4    dummy-type2-1.png  advice\\nThe voice of independent advice\\nSampl...\n",
       "5    dummy-type2-2.png  advice\\nThe voice of independent advice\\nSampl...\n",
       "6    dummy-type2-3.png  advice ux\\nThe voice of independent advice\\nSa...\n",
       "7    dummy-type3-1.png  Holland Bloorview Appointment Services: 150 Ki...\n",
       "8    dummy-type4-1.png  TRIAGING ADMIN CODE (COMPLETED ON RECEIPT): En...\n",
       "9    dummy-type4-2.png  TRIAGING ADMIN CODE (COMPLETED ON RECEIPT): En...\n",
       "10   dummy-type5-1.png  (C THE OHIO STATE UNIVERSITY\\n=) WEXNER MEDICA...\n",
       "11   dummy-type6-1.png  ~. a\\n\\n° e\\n! -\\ See\\n\\nFaker Medical Center\\...\n",
       "12   dummy-type6-2.png  ~. a\\n\\n° e\\n! Ned 1\\n\\nSome Medical Center\\n\\...\n",
       "13   dummy-type7-1.png  England\\nPAEDIATRIC DENTISTRY REFERRAL FORM (C...\n",
       "14   dummy-type8-1.png  es .\\nae (NOVA MEDICAL\\nls GROUP\\nPatient Regi...\n",
       "15   dummy-type8-2.png  al, wie rh ~\\nie INOVA MEDICAL\\nge GROUP\\nPati...\n",
       "16   dummy-type9-1.png  ai\" MEMORIALCARE\\nMAF MEDICAL GROUP Patient Re...\n",
       "17   dummy-type9-2.png  ai\" MEMORIALCARE\\nAa MEDICAL GROUP Patient Reg..."
      ]
     },
     "execution_count": 17,
     "metadata": {},
     "output_type": "execute_result"
    }
   ],
   "source": [
    "df_png = result.merge(result2, on='doc_name', how='left')\n",
    "df_png = df_png.loc[:, df_png.columns != 'png_path']\n",
    "df_png"
   ]
  },
  {
   "cell_type": "code",
   "execution_count": 18,
   "metadata": {},
   "outputs": [],
   "source": [
    "# df_png.to_csv('df_png.csv')"
   ]
  },
  {
   "attachments": {},
   "cell_type": "markdown",
   "metadata": {},
   "source": [
    "# SK-Learn Kmeans clustering"
   ]
  },
  {
   "cell_type": "code",
   "execution_count": 19,
   "metadata": {},
   "outputs": [],
   "source": [
    "# read csv\n",
    "# df_png = pd.read_csv('df_png.csv', index_col=0)"
   ]
  },
  {
   "cell_type": "code",
   "execution_count": 20,
   "metadata": {},
   "outputs": [],
   "source": [
    "# import the list of relevant words\n",
    "with open('dictionary.txt') as file:\n",
    "\tlines = file.readlines()\n",
    "\tlines = [line.strip() for line in lines]\n",
    "\tfile.close()\n",
    "relevant_words = lines\n",
    "# Initialize TfidfVectorizer with your parameters \n",
    "tfidf = TfidfVectorizer(stop_words='english') \n",
    "# Fit and transform your text data into a TF-IDF feature matrix \n",
    "tfidf_matrix = tfidf.fit_transform(df_png['full_text']) \n",
    "# Get the indices of relevant words in the vocabulary \n",
    "relevant_word_indices = [tfidf.vocabulary_.get(word) for word in relevant_words] \n",
    "# Adjust the IDF values of relevant words \n",
    "idf = tfidf.idf_ \n",
    "for i in relevant_word_indices:\n",
    "\t idf[i] *= 5 \n",
    "# Five times the IDF weight of relevant words # Use the adjusted TF-IDF feature matrix to perform K-means clustering \n"
   ]
  },
  {
   "cell_type": "code",
   "execution_count": 21,
   "metadata": {},
   "outputs": [],
   "source": [
    "# Use elbow method to find the optimal number of clusters\n",
    "inertias = []\n",
    "silhouette_scores=[]\n",
    "for k in range(2, 18,1):\n",
    "    kmeans = KMeans(n_clusters=k)\n",
    "    kmeans.fit(tfidf_matrix)\n",
    "    inertias.append(kmeans.inertia_)\n",
    "    silhouette_scores.append(silhouette_score(tfidf_matrix, kmeans.labels_))"
   ]
  },
  {
   "cell_type": "code",
   "execution_count": 22,
   "metadata": {},
   "outputs": [
    {
     "data": {
      "image/png": "[encoded data removed]",
      "text/plain": [
       "<Figure size 432x288 with 2 Axes>"
      ]
     },
     "metadata": {
      "needs_background": "light"
     },
     "output_type": "display_data"
    }
   ],
   "source": [
    "# Use silhouette method to evaluate the clustering performance\n",
    "\n",
    "fig, ax1 = plt.subplots()\n",
    "color = 'tab:red'\n",
    "ax1.set_xlabel('number of clusters')\n",
    "ax1.set_ylabel('Inertia', color=color)\n",
    "ax1.plot(range(2, 18,1), inertias, marker ='o', color=color)\n",
    "ax1.tick_params(axis='y', labelcolor=color)\n",
    "\n",
    "ax2 = ax1.twinx()\n",
    "color = 'tab:blue'\n",
    "ax2.set_ylabel('silhouette score', color=color)\n",
    "ax2.plot(range(2, 18,1), silhouette_scores, marker='o', color=color)\n",
    "ax2.tick_params(axis='y', labelcolor=color)\n",
    "\n",
    "fig.tight_layout()\n",
    "plt.show()"
   ]
  },
  {
   "cell_type": "code",
   "execution_count": 23,
   "metadata": {},
   "outputs": [
    {
     "name": "stdout",
     "output_type": "stream",
     "text": [
      "For n_clusters = 10 The average silhouette_score is : 0.393609450441996\n"
     ]
    }
   ],
   "source": [
    "# Based on the elbow plot, choose the optimal number of clusters\n",
    "n_clusters = 10\n",
    "kmeans = KMeans(n_clusters=n_clusters)\n",
    "clusters = kmeans.fit_predict(tfidf_matrix)\n",
    "\n",
    "# Use silhouette method to evaluate the clustering performance\n",
    "silhouette_avg = silhouette_score(tfidf_matrix, clusters)\n",
    "print(\"For n_clusters =\", n_clusters, \"The average silhouette_score is :\", silhouette_avg)\n"
   ]
  },
  {
   "attachments": {},
   "cell_type": "markdown",
   "metadata": {},
   "source": [
    "# Export Results"
   ]
  },
  {
   "cell_type": "code",
   "execution_count": 24,
   "metadata": {},
   "outputs": [
    {
     "data": {
      "text/plain": [
       "['kmeans_full_train_ocr.joblib']"
      ]
     },
     "execution_count": 24,
     "metadata": {},
     "output_type": "execute_result"
    }
   ],
   "source": [
    "import joblib\n",
    "joblib.dump(kmeans, \"kmeans_full_train_ocr.joblib\")"
   ]
  },
  {
   "cell_type": "code",
   "execution_count": 25,
   "metadata": {},
   "outputs": [],
   "source": [
    "import pickle\n",
    "with open(\"kmeans_full_train_ocr.pkl\", \"wb\") as file:\n",
    "    pickle.dump(kmeans, file)"
   ]
  },
  {
   "cell_type": "code",
   "execution_count": 26,
   "metadata": {},
   "outputs": [],
   "source": [
    "\n",
    "cluster_pd = pd.DataFrame(clusters, columns = ['cluster'])\n",
    "cluster_pd.sort_values(by=[\"cluster\"], inplace = True)\n",
    "cluster_merge = cluster_pd.merge(df_png,left_index=True, right_index=True,how='outer')\n",
    "cluster_merge.sort_values(by=[\"cluster\"], inplace = True)\n",
    "cluster_merge['doc_name'] = cluster_merge['doc_name'].str.replace( '.png','.pdf')"
   ]
  },
  {
   "cell_type": "code",
   "execution_count": 27,
   "metadata": {},
   "outputs": [],
   "source": [
    "cluster_merge.to_csv('train_cluster.csv')"
   ]
  },
  {
   "cell_type": "code",
   "execution_count": 28,
   "metadata": {},
   "outputs": [],
   "source": [
    "cluster_merge.to_excel('train_cluster.xlsx')"
   ]
  },
  {
   "cell_type": "code",
   "execution_count": 29,
   "metadata": {},
   "outputs": [
    {
     "data": {
      "text/html": [
       "<div>\n",
       "<style scoped>\n",
       "    .dataframe tbody tr th:only-of-type {\n",
       "        vertical-align: middle;\n",
       "    }\n",
       "\n",
       "    .dataframe tbody tr th {\n",
       "        vertical-align: top;\n",
       "    }\n",
       "\n",
       "    .dataframe thead th {\n",
       "        text-align: right;\n",
       "    }\n",
       "</style>\n",
       "<table border=\"1\" class=\"dataframe\">\n",
       "  <thead>\n",
       "    <tr style=\"text-align: right;\">\n",
       "      <th></th>\n",
       "      <th>cluster</th>\n",
       "      <th>doc_name</th>\n",
       "      <th>full_text</th>\n",
       "    </tr>\n",
       "  </thead>\n",
       "  <tbody>\n",
       "    <tr>\n",
       "      <th>4</th>\n",
       "      <td>0</td>\n",
       "      <td>dummy-type2-1.pdf</td>\n",
       "      <td>advice\\nThe voice of independent advice\\nSampl...</td>\n",
       "    </tr>\n",
       "    <tr>\n",
       "      <th>5</th>\n",
       "      <td>0</td>\n",
       "      <td>dummy-type2-2.pdf</td>\n",
       "      <td>advice\\nThe voice of independent advice\\nSampl...</td>\n",
       "    </tr>\n",
       "    <tr>\n",
       "      <th>6</th>\n",
       "      <td>0</td>\n",
       "      <td>dummy-type2-3.pdf</td>\n",
       "      <td>advice ux\\nThe voice of independent advice\\nSa...</td>\n",
       "    </tr>\n",
       "    <tr>\n",
       "      <th>15</th>\n",
       "      <td>1</td>\n",
       "      <td>dummy-type8-2.pdf</td>\n",
       "      <td>al, wie rh ~\\nie INOVA MEDICAL\\nge GROUP\\nPati...</td>\n",
       "    </tr>\n",
       "    <tr>\n",
       "      <th>14</th>\n",
       "      <td>1</td>\n",
       "      <td>dummy-type8-1.pdf</td>\n",
       "      <td>es .\\nae (NOVA MEDICAL\\nls GROUP\\nPatient Regi...</td>\n",
       "    </tr>\n",
       "    <tr>\n",
       "      <th>0</th>\n",
       "      <td>2</td>\n",
       "      <td>dummy-type1-1.pdf</td>\n",
       "      <td>Referral\\n213123\\n123\\nDoctor’s name &amp; Address...</td>\n",
       "    </tr>\n",
       "    <tr>\n",
       "      <th>1</th>\n",
       "      <td>2</td>\n",
       "      <td>dummy-type1-2.pdf</td>\n",
       "      <td>Referral\\nDoctor’s name &amp; Address _Dr Some one...</td>\n",
       "    </tr>\n",
       "    <tr>\n",
       "      <th>2</th>\n",
       "      <td>2</td>\n",
       "      <td>dummy-type1-3.pdf</td>\n",
       "      <td>Referral\\n23123232\\nDoctor’s name &amp; Address _ ...</td>\n",
       "    </tr>\n",
       "    <tr>\n",
       "      <th>17</th>\n",
       "      <td>3</td>\n",
       "      <td>dummy-type9-2.pdf</td>\n",
       "      <td>ai\" MEMORIALCARE\\nAa MEDICAL GROUP Patient Reg...</td>\n",
       "    </tr>\n",
       "    <tr>\n",
       "      <th>16</th>\n",
       "      <td>3</td>\n",
       "      <td>dummy-type9-1.pdf</td>\n",
       "      <td>ai\" MEMORIALCARE\\nMAF MEDICAL GROUP Patient Re...</td>\n",
       "    </tr>\n",
       "    <tr>\n",
       "      <th>9</th>\n",
       "      <td>4</td>\n",
       "      <td>dummy-type4-2.pdf</td>\n",
       "      <td>TRIAGING ADMIN CODE (COMPLETED ON RECEIPT): En...</td>\n",
       "    </tr>\n",
       "    <tr>\n",
       "      <th>8</th>\n",
       "      <td>4</td>\n",
       "      <td>dummy-type4-1.pdf</td>\n",
       "      <td>TRIAGING ADMIN CODE (COMPLETED ON RECEIPT): En...</td>\n",
       "    </tr>\n",
       "    <tr>\n",
       "      <th>11</th>\n",
       "      <td>5</td>\n",
       "      <td>dummy-type6-1.pdf</td>\n",
       "      <td>~. a\\n\\n° e\\n! -\\ See\\n\\nFaker Medical Center\\...</td>\n",
       "    </tr>\n",
       "    <tr>\n",
       "      <th>12</th>\n",
       "      <td>5</td>\n",
       "      <td>dummy-type6-2.pdf</td>\n",
       "      <td>~. a\\n\\n° e\\n! Ned 1\\n\\nSome Medical Center\\n\\...</td>\n",
       "    </tr>\n",
       "    <tr>\n",
       "      <th>3</th>\n",
       "      <td>6</td>\n",
       "      <td>dummy-type10-1.pdf</td>\n",
       "      <td>A, ; Specialist Consultation Referral Form\\nto...</td>\n",
       "    </tr>\n",
       "    <tr>\n",
       "      <th>10</th>\n",
       "      <td>7</td>\n",
       "      <td>dummy-type5-1.pdf</td>\n",
       "      <td>(C THE OHIO STATE UNIVERSITY\\n=) WEXNER MEDICA...</td>\n",
       "    </tr>\n",
       "    <tr>\n",
       "      <th>7</th>\n",
       "      <td>8</td>\n",
       "      <td>dummy-type3-1.pdf</td>\n",
       "      <td>Holland Bloorview Appointment Services: 150 Ki...</td>\n",
       "    </tr>\n",
       "    <tr>\n",
       "      <th>13</th>\n",
       "      <td>9</td>\n",
       "      <td>dummy-type7-1.pdf</td>\n",
       "      <td>England\\nPAEDIATRIC DENTISTRY REFERRAL FORM (C...</td>\n",
       "    </tr>\n",
       "  </tbody>\n",
       "</table>\n",
       "</div>"
      ],
      "text/plain": [
       "    cluster            doc_name  \\\n",
       "4         0   dummy-type2-1.pdf   \n",
       "5         0   dummy-type2-2.pdf   \n",
       "6         0   dummy-type2-3.pdf   \n",
       "15        1   dummy-type8-2.pdf   \n",
       "14        1   dummy-type8-1.pdf   \n",
       "0         2   dummy-type1-1.pdf   \n",
       "1         2   dummy-type1-2.pdf   \n",
       "2         2   dummy-type1-3.pdf   \n",
       "17        3   dummy-type9-2.pdf   \n",
       "16        3   dummy-type9-1.pdf   \n",
       "9         4   dummy-type4-2.pdf   \n",
       "8         4   dummy-type4-1.pdf   \n",
       "11        5   dummy-type6-1.pdf   \n",
       "12        5   dummy-type6-2.pdf   \n",
       "3         6  dummy-type10-1.pdf   \n",
       "10        7   dummy-type5-1.pdf   \n",
       "7         8   dummy-type3-1.pdf   \n",
       "13        9   dummy-type7-1.pdf   \n",
       "\n",
       "                                            full_text  \n",
       "4   advice\\nThe voice of independent advice\\nSampl...  \n",
       "5   advice\\nThe voice of independent advice\\nSampl...  \n",
       "6   advice ux\\nThe voice of independent advice\\nSa...  \n",
       "15  al, wie rh ~\\nie INOVA MEDICAL\\nge GROUP\\nPati...  \n",
       "14  es .\\nae (NOVA MEDICAL\\nls GROUP\\nPatient Regi...  \n",
       "0   Referral\\n213123\\n123\\nDoctor’s name & Address...  \n",
       "1   Referral\\nDoctor’s name & Address _Dr Some one...  \n",
       "2   Referral\\n23123232\\nDoctor’s name & Address _ ...  \n",
       "17  ai\" MEMORIALCARE\\nAa MEDICAL GROUP Patient Reg...  \n",
       "16  ai\" MEMORIALCARE\\nMAF MEDICAL GROUP Patient Re...  \n",
       "9   TRIAGING ADMIN CODE (COMPLETED ON RECEIPT): En...  \n",
       "8   TRIAGING ADMIN CODE (COMPLETED ON RECEIPT): En...  \n",
       "11  ~. a\\n\\n° e\\n! -\\ See\\n\\nFaker Medical Center\\...  \n",
       "12  ~. a\\n\\n° e\\n! Ned 1\\n\\nSome Medical Center\\n\\...  \n",
       "3   A, ; Specialist Consultation Referral Form\\nto...  \n",
       "10  (C THE OHIO STATE UNIVERSITY\\n=) WEXNER MEDICA...  \n",
       "7   Holland Bloorview Appointment Services: 150 Ki...  \n",
       "13  England\\nPAEDIATRIC DENTISTRY REFERRAL FORM (C...  "
      ]
     },
     "execution_count": 29,
     "metadata": {},
     "output_type": "execute_result"
    }
   ],
   "source": [
    "cluster_merge = cluster_merge.loc[:, cluster_merge.columns != 'png_path']\n",
    "cluster_merge"
   ]
  }
 ],
 "metadata": {
  "kernelspec": {
   "display_name": "Python 3",
   "language": "python",
   "name": "python3"
  },
  "language_info": {
   "codemirror_mode": {
    "name": "ipython",
    "version": 3
   },
   "file_extension": ".py",
   "mimetype": "text/x-python",
   "name": "python",
   "nbconvert_exporter": "python",
   "pygments_lexer": "ipython3",
   "version": "3.8.5"
  },
  "orig_nbformat": 4,
  "vscode": {
   "interpreter": {
    "hash": "91771f5bde743e89ddd175a344e10fc68daeb531da8a8e49daf01ab3286c5731"
   }
  }
 },
 "nbformat": 4,
 "nbformat_minor": 2
}
